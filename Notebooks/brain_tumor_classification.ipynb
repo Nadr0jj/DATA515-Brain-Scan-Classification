{
 "cells": [
  {
   "cell_type": "code",
   "execution_count": 1,
   "metadata": {},
   "outputs": [],
   "source": [
    "import numpy as np\n",
    "import SimpleITK as sitk\n",
    "import matplotlib.pyplot as plt \n",
    "from IPython import display\n",
    "import glob\n",
    "import math\n",
    "\n",
    "import tensorflow as tf\n",
    "from tensorflow import keras\n",
    "from tensorflow.keras import layers\n",
    "from sklearn.model_selection import train_test_split\n",
    "\n",
    "import cv2\n",
    "from os import listdir\n",
    "from sklearn.utils import shuffle\n",
    "\n",
    "from numpy.random import seed\n",
    "seed(1)\n",
    "tf.random.set_seed(2)"
   ]
  },
  {
   "cell_type": "code",
   "execution_count": 9,
   "metadata": {},
   "outputs": [],
   "source": [
    "def scale_and_normalize(arr):\n",
    "    arr = arr.astype('float32')\n",
    "    mean, stand_dev = arr.mean(), arr.std()\n",
    "    arr = (arr-mean)/stand_dev\n",
    "    arr = np.clip(arr, -1, 1)\n",
    "    arr = (arr+1)/2\n",
    "    return arr"
   ]
  },
  {
   "cell_type": "code",
   "execution_count": 10,
   "metadata": {},
   "outputs": [],
   "source": [
    "def load_data(dir_list, image_size):\n",
    "    \"\"\"\n",
    "    Read images, resize and normalize them. \n",
    "    Arguments:\n",
    "        dir_list: list of strings representing file directories.\n",
    "    Returns:\n",
    "        X: A numpy array with shape = (#_examples, image_width, image_height, #_channels)\n",
    "        y: A numpy array with shape = (#_examples, 1)\n",
    "    \"\"\"\n",
    "\n",
    "    # load all images in a directory\n",
    "    X = []\n",
    "    y = []\n",
    "    image_width, image_height = image_size\n",
    "    \n",
    "    for directory in dir_list:\n",
    "        for filename in listdir(directory):\n",
    "            # load the image\n",
    "            image = cv2.imread(directory + '/' + filename)\n",
    "            # crop the brain and ignore the unnecessary rest part of the image\n",
    "            image = cv2.cvtColor(image, cv2.COLOR_BGR2GRAY)\n",
    "            # resize image\n",
    "            image = cv2.resize(image, dsize=(image_width, image_height), interpolation=cv2.INTER_CUBIC)\n",
    "            # normalize values\n",
    "            image = scale_and_normalize(image)\n",
    "            # convert image to numpy array and append it to X\n",
    "            X.append(image)\n",
    "            # append a value of 1 to the target array if the image\n",
    "            # is in the folder named 'yes', otherwise append 0.\n",
    "            if directory[-3:] == 'yes':\n",
    "                y.append([1])\n",
    "            else:\n",
    "                y.append([0])\n",
    "                \n",
    "    X = np.array(X)\n",
    "    y = np.array(y)\n",
    "    \n",
    "    # Shuffle the data\n",
    "    X, y = shuffle(X, y)\n",
    "    \n",
    "    print(f'Number of examples is: {len(X)}')\n",
    "    print(f'X shape is: {X.shape}')\n",
    "    print(f'y shape is: {y.shape}')\n",
    "    \n",
    "    return X, y"
   ]
  },
  {
   "cell_type": "code",
   "execution_count": 11,
   "metadata": {},
   "outputs": [
    {
     "name": "stdout",
     "output_type": "stream",
     "text": [
      "Number of examples is: 253\n",
      "X shape is: (253, 240, 240)\n",
      "y shape is: (253, 1)\n"
     ]
    }
   ],
   "source": [
    "IMG_WIDTH, IMG_HEIGHT = (240, 240)\n",
    "X, y = load_data(['../data/JPG_Brain_Scans/yes', '../data/JPG_Brain_Scans/no'], (IMG_WIDTH, IMG_HEIGHT))"
   ]
  },
  {
   "cell_type": "code",
   "execution_count": 13,
   "metadata": {},
   "outputs": [],
   "source": [
    "X = X.reshape(-1, 240, 240, 1)"
   ]
  },
  {
   "cell_type": "code",
   "execution_count": 14,
   "metadata": {},
   "outputs": [],
   "source": [
    "X_train, X_test, y_train, y_test = train_test_split(X, y, test_size = .33, shuffle=True, stratify=y)"
   ]
  },
  {
   "cell_type": "code",
   "execution_count": 32,
   "metadata": {},
   "outputs": [],
   "source": [
    "data_augmentation = keras.Sequential([\n",
    "  layers.experimental.preprocessing.RandomFlip(\"horizontal_and_vertical\"),\n",
    "  layers.experimental.preprocessing.RandomRotation(0.2),\n",
    "])"
   ]
  },
  {
   "cell_type": "code",
   "execution_count": 108,
   "metadata": {},
   "outputs": [],
   "source": [
    "# train_gen = keras.preprocessing.image.ImageDataGenerator(rotation_range=30,\n",
    "#                                                          horizontal_flip=True,\n",
    "#                                                          vertical_flip=True)\n",
    "# # valid_gen = ImageDataGenerator().flow_from_directory(valid_dir)\n",
    "\n",
    "# train_gen.fit(X_train)"
   ]
  },
  {
   "cell_type": "code",
   "execution_count": 15,
   "metadata": {},
   "outputs": [],
   "source": [
    "model = keras.models.Sequential([\n",
    "    keras.Input(shape=(240, 240, 1)),\n",
    "#     data_augmentation,\n",
    "    keras.layers.Conv2D(32, 3, strides=(1, 1), activation='relu', data_format='channels_last', name='conv0'),\n",
    "    keras.layers.MaxPool2D((2, 2), name='max_pool0'),\n",
    "    keras.layers.BatchNormalization(name='bn0'),\n",
    "    keras.layers.Flatten(),\n",
    "    keras.layers.Dense(1, activation='sigmoid')])"
   ]
  },
  {
   "cell_type": "code",
   "execution_count": 16,
   "metadata": {},
   "outputs": [
    {
     "name": "stdout",
     "output_type": "stream",
     "text": [
      "Model: \"sequential\"\n",
      "_________________________________________________________________\n",
      "Layer (type)                 Output Shape              Param #   \n",
      "=================================================================\n",
      "conv0 (Conv2D)               (None, 238, 238, 32)      320       \n",
      "_________________________________________________________________\n",
      "max_pool0 (MaxPooling2D)     (None, 119, 119, 32)      0         \n",
      "_________________________________________________________________\n",
      "bn0 (BatchNormalization)     (None, 119, 119, 32)      128       \n",
      "_________________________________________________________________\n",
      "flatten (Flatten)            (None, 453152)            0         \n",
      "_________________________________________________________________\n",
      "dense (Dense)                (None, 1)                 453153    \n",
      "=================================================================\n",
      "Total params: 453,601\n",
      "Trainable params: 453,537\n",
      "Non-trainable params: 64\n",
      "_________________________________________________________________\n"
     ]
    }
   ],
   "source": [
    "model.summary()"
   ]
  },
  {
   "cell_type": "code",
   "execution_count": 17,
   "metadata": {},
   "outputs": [],
   "source": [
    "opt = keras.optimizers.Adam(learning_rate=0.001)\n",
    "\n",
    "model.compile(loss = 'binary_crossentropy',\n",
    "             optimizer = opt, metrics = ['binary_accuracy'])"
   ]
  },
  {
   "cell_type": "code",
   "execution_count": 18,
   "metadata": {},
   "outputs": [
    {
     "name": "stdout",
     "output_type": "stream",
     "text": [
      "Epoch 1/10\n",
      "6/6 [==============================] - 7s 974ms/step - loss: 19.5429 - binary_accuracy: 0.5705 - val_loss: 0.6011 - val_binary_accuracy: 0.8095\n",
      "Epoch 2/10\n",
      "6/6 [==============================] - 5s 766ms/step - loss: 10.4421 - binary_accuracy: 0.7843 - val_loss: 1.5950 - val_binary_accuracy: 0.6667\n",
      "Epoch 3/10\n",
      "6/6 [==============================] - 5s 764ms/step - loss: 5.8355 - binary_accuracy: 0.8193 - val_loss: 1.9031 - val_binary_accuracy: 0.4643\n",
      "Epoch 4/10\n",
      "6/6 [==============================] - 5s 766ms/step - loss: 2.8892 - binary_accuracy: 0.8737 - val_loss: 0.6487 - val_binary_accuracy: 0.6786\n",
      "Epoch 5/10\n",
      "6/6 [==============================] - 6s 969ms/step - loss: 2.0446 - binary_accuracy: 0.8668 - val_loss: 0.5493 - val_binary_accuracy: 0.7619\n",
      "Epoch 6/10\n",
      "6/6 [==============================] - 5s 760ms/step - loss: 0.6230 - binary_accuracy: 0.9358 - val_loss: 0.3979 - val_binary_accuracy: 0.8214\n",
      "Epoch 7/10\n",
      "6/6 [==============================] - 5s 811ms/step - loss: 0.0764 - binary_accuracy: 0.9900 - val_loss: 0.4526 - val_binary_accuracy: 0.8214\n",
      "Epoch 8/10\n",
      "6/6 [==============================] - 5s 806ms/step - loss: 0.4032 - binary_accuracy: 0.9682 - val_loss: 0.4179 - val_binary_accuracy: 0.8333\n",
      "Epoch 9/10\n",
      "6/6 [==============================] - 5s 858ms/step - loss: 0.0728 - binary_accuracy: 0.9926 - val_loss: 0.4325 - val_binary_accuracy: 0.8095\n",
      "Epoch 10/10\n",
      "6/6 [==============================] - 5s 831ms/step - loss: 2.1472e-06 - binary_accuracy: 1.0000 - val_loss: 0.5770 - val_binary_accuracy: 0.7024\n"
     ]
    }
   ],
   "source": [
    "from datetime import datetime\n",
    "logdir = \"logs/scalars/\" + datetime.now().strftime(\"%Y%m%d-%H%M%S\")\n",
    "tensorboard_callback = keras.callbacks.TensorBoard(log_dir=logdir)\n",
    "\n",
    "neural_net = model.fit(X_train, y_train, batch_size=32, epochs = 10, validation_data = (X_test, y_test), callbacks=[tensorboard_callback])"
   ]
  },
  {
   "cell_type": "code",
   "execution_count": 19,
   "metadata": {},
   "outputs": [
    {
     "data": {
      "text/plain": [
       "array([0.60714286])"
      ]
     },
     "execution_count": 19,
     "metadata": {},
     "output_type": "execute_result"
    }
   ],
   "source": [
    "sum(y_test)/len(y_test)"
   ]
  },
  {
   "cell_type": "code",
   "execution_count": null,
   "metadata": {},
   "outputs": [],
   "source": []
  }
 ],
 "metadata": {
  "kernelspec": {
   "display_name": "Python 3",
   "language": "python",
   "name": "python3"
  },
  "language_info": {
   "codemirror_mode": {
    "name": "ipython",
    "version": 3
   },
   "file_extension": ".py",
   "mimetype": "text/x-python",
   "name": "python",
   "nbconvert_exporter": "python",
   "pygments_lexer": "ipython3",
   "version": "3.7.6"
  }
 },
 "nbformat": 4,
 "nbformat_minor": 4
}
